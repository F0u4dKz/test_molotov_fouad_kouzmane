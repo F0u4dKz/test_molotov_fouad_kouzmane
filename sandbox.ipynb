{
 "cells": [
  {
   "cell_type": "markdown",
   "metadata": {},
   "source": [
    "### Install pandas \n",
    "Make sure to prepare the env by running the following comman"
   ]
  },
  {
   "cell_type": "code",
   "execution_count": 1,
   "metadata": {},
   "outputs": [
    {
     "name": "stdout",
     "output_type": "stream",
     "text": [
      "Requirement already satisfied: pandas in c:\\python311\\lib\\site-packages (2.2.2)\n",
      "Requirement already satisfied: numpy>=1.23.2 in c:\\python311\\lib\\site-packages (from pandas) (1.26.4)\n",
      "Requirement already satisfied: python-dateutil>=2.8.2 in c:\\users\\dell\\appdata\\roaming\\python\\python311\\site-packages (from pandas) (2.8.2)\n",
      "Requirement already satisfied: pytz>=2020.1 in c:\\python311\\lib\\site-packages (from pandas) (2023.3.post1)\n",
      "Requirement already satisfied: tzdata>=2022.7 in c:\\python311\\lib\\site-packages (from pandas) (2024.1)\n",
      "Requirement already satisfied: six>=1.5 in c:\\users\\dell\\appdata\\roaming\\python\\python311\\site-packages (from python-dateutil>=2.8.2->pandas) (1.16.0)\n"
     ]
    },
    {
     "name": "stderr",
     "output_type": "stream",
     "text": [
      "\n",
      "[notice] A new release of pip is available: 23.1.2 -> 24.0\n",
      "[notice] To update, run: python.exe -m pip install --upgrade pip\n"
     ]
    },
    {
     "name": "stdout",
     "output_type": "stream",
     "text": [
      "Requirement already satisfied: matplotlib in c:\\python311\\lib\\site-packages (3.8.4)\n",
      "Requirement already satisfied: contourpy>=1.0.1 in c:\\python311\\lib\\site-packages (from matplotlib) (1.2.1)\n",
      "Requirement already satisfied: cycler>=0.10 in c:\\python311\\lib\\site-packages (from matplotlib) (0.12.1)\n",
      "Requirement already satisfied: fonttools>=4.22.0 in c:\\python311\\lib\\site-packages (from matplotlib) (4.51.0)\n",
      "Requirement already satisfied: kiwisolver>=1.3.1 in c:\\python311\\lib\\site-packages (from matplotlib) (1.4.5)\n",
      "Requirement already satisfied: numpy>=1.21 in c:\\python311\\lib\\site-packages (from matplotlib) (1.26.4)\n",
      "Requirement already satisfied: packaging>=20.0 in c:\\users\\dell\\appdata\\roaming\\python\\python311\\site-packages (from matplotlib) (23.1)\n",
      "Requirement already satisfied: pillow>=8 in c:\\python311\\lib\\site-packages (from matplotlib) (10.3.0)\n",
      "Requirement already satisfied: pyparsing>=2.3.1 in c:\\python311\\lib\\site-packages (from matplotlib) (3.1.2)\n",
      "Requirement already satisfied: python-dateutil>=2.7 in c:\\users\\dell\\appdata\\roaming\\python\\python311\\site-packages (from matplotlib) (2.8.2)\n",
      "Requirement already satisfied: six>=1.5 in c:\\users\\dell\\appdata\\roaming\\python\\python311\\site-packages (from python-dateutil>=2.7->matplotlib) (1.16.0)\n"
     ]
    },
    {
     "name": "stderr",
     "output_type": "stream",
     "text": [
      "\n",
      "[notice] A new release of pip is available: 23.1.2 -> 24.0\n",
      "[notice] To update, run: python.exe -m pip install --upgrade pip\n"
     ]
    }
   ],
   "source": [
    "!pip install pandas"
   ]
  },
  {
   "cell_type": "markdown",
   "metadata": {},
   "source": [
    "### Data Cleaning and dataframe preparation"
   ]
  },
  {
   "cell_type": "code",
   "execution_count": 11,
   "metadata": {},
   "outputs": [],
   "source": [
    "import pandas as pd\n",
    "#loading csv files int DFs\n",
    "channels_df = pd.read_csv ('channel.csv')\n",
    "subscriptions_df = pd.read_csv ('subscriptions.csv')\n",
    "users_df = pd.read_csv ('users.csv')\n",
    "watch_df = pd.read_csv ('watch.csv') \n",
    "# cleaning DFs \n",
    "channels_df.drop(columns=channels_df.columns[0], axis=1, inplace=True)\n",
    "subscriptions_df.drop(columns=subscriptions_df.columns[0], axis=1, inplace=True)\n",
    "users_df.drop(columns=users_df.columns[0], axis=1, inplace=True)\n",
    "watch_df.drop(columns=watch_df.columns[0], axis=1, inplace=True)\n"
   ]
  },
  {
   "cell_type": "markdown",
   "metadata": {},
   "source": [
    "### Preppeing TV and no TV users clusters"
   ]
  },
  {
   "cell_type": "code",
   "execution_count": 12,
   "metadata": {},
   "outputs": [],
   "source": [
    "users_df = users_df.drop_duplicates(subset=['ID'])\n",
    "no_tv_users_df = watch_df[watch_df['DEVICE_TYPE'] != 'tv']\n",
    "tv_users_df = watch_df[watch_df['DEVICE_TYPE'] == 'tv']"
   ]
  },
  {
   "cell_type": "markdown",
   "metadata": {},
   "source": [
    "### Number of tv users grouped by program kind "
   ]
  },
  {
   "cell_type": "code",
   "execution_count": 63,
   "metadata": {},
   "outputs": [
    {
     "data": {
      "text/plain": [
       "PROGRAM_KIND\n",
       "Informations     4687\n",
       "Séries           3145\n",
       "Films            3102\n",
       "Documentaires    2733\n",
       "Sport            2638\n",
       "Indéterminé      1675\n",
       "Culture          1457\n",
       "Enfants          1146\n",
       "Name: USER_ID, dtype: int64"
      ]
     },
     "execution_count": 63,
     "metadata": {},
     "output_type": "execute_result"
    }
   ],
   "source": [
    "tv_users_df.groupby('PROGRAM_KIND')['USER_ID'].nunique().sort_values(ascending=False)\n"
   ]
  },
  {
   "cell_type": "markdown",
   "metadata": {},
   "source": [
    "### Number of non tv users grouped by program kind "
   ]
  },
  {
   "cell_type": "code",
   "execution_count": 13,
   "metadata": {},
   "outputs": [
    {
     "data": {
      "text/plain": [
       "PROGRAM_KIND\n",
       "Informations     4002\n",
       "Sport            2451\n",
       "Films            2232\n",
       "Séries           2076\n",
       "Documentaires    1815\n",
       "Indéterminé       954\n",
       "Culture           913\n",
       "Enfants           482\n",
       "Name: USER_ID, dtype: int64"
      ]
     },
     "execution_count": 13,
     "metadata": {},
     "output_type": "execute_result"
    }
   ],
   "source": [
    "no_tv_users_df.groupby('PROGRAM_KIND')['USER_ID'].nunique().sort_values(ascending=False)"
   ]
  },
  {
   "cell_type": "markdown",
   "metadata": {},
   "source": [
    "### Number of non tv users grouped by asset type"
   ]
  },
  {
   "cell_type": "code",
   "execution_count": 65,
   "metadata": {},
   "outputs": [
    {
     "data": {
      "text/plain": [
       "ASSET_TYPE\n",
       "live                 6119\n",
       "vod                  1721\n",
       "replay               1061\n",
       "bookmark              352\n",
       "continue_watching     309\n",
       "Name: USER_ID, dtype: int64"
      ]
     },
     "execution_count": 65,
     "metadata": {},
     "output_type": "execute_result"
    }
   ],
   "source": [
    "\n",
    "no_tv_users_df.groupby('ASSET_TYPE')['USER_ID'].nunique().sort_values(ascending=False)"
   ]
  },
  {
   "cell_type": "markdown",
   "metadata": {},
   "source": [
    "### Number of tv users grouped by asset type"
   ]
  },
  {
   "cell_type": "code",
   "execution_count": 66,
   "metadata": {},
   "outputs": [
    {
     "data": {
      "text/plain": [
       "ASSET_TYPE\n",
       "live                 5986\n",
       "vod                  1660\n",
       "replay               1349\n",
       "bookmark              518\n",
       "continue_watching     306\n",
       "Name: USER_ID, dtype: int64"
      ]
     },
     "execution_count": 66,
     "metadata": {},
     "output_type": "execute_result"
    }
   ],
   "source": [
    "tv_users_df.groupby('ASSET_TYPE')['USER_ID'].nunique().sort_values(ascending=False)"
   ]
  },
  {
   "cell_type": "markdown",
   "metadata": {},
   "source": [
    "### Merging DFs to get subscription type by user"
   ]
  },
  {
   "cell_type": "code",
   "execution_count": 14,
   "metadata": {},
   "outputs": [],
   "source": [
    "tv_merged_df = tv_users_df.merge(subscriptions_df, left_on='USER_ID', right_on='USER_ID')\n",
    "no_tv_merged_df = no_tv_users_df.merge(subscriptions_df, left_on='USER_ID', right_on='USER_ID')"
   ]
  },
  {
   "cell_type": "markdown",
   "metadata": {},
   "source": [
    "### Number of tv users grouped by product type"
   ]
  },
  {
   "cell_type": "code",
   "execution_count": 68,
   "metadata": {},
   "outputs": [
    {
     "data": {
      "text/plain": [
       "PRODUCT_NAME\n",
       "Molotov Plus        2068\n",
       "Molotov Extra       1746\n",
       "Molotov Giga        1184\n",
       "Molotov Extended     799\n",
       "Name: USER_ID, dtype: int64"
      ]
     },
     "execution_count": 68,
     "metadata": {},
     "output_type": "execute_result"
    }
   ],
   "source": [
    "\n",
    "tv_merged_df.groupby([ 'PRODUCT_NAME'])['USER_ID'].nunique().sort_values(ascending=False)"
   ]
  },
  {
   "cell_type": "markdown",
   "metadata": {},
   "source": [
    "### Number of non tv users grouped by product type"
   ]
  },
  {
   "cell_type": "code",
   "execution_count": 15,
   "metadata": {},
   "outputs": [
    {
     "data": {
      "text/plain": [
       "PRODUCT_NAME\n",
       "Molotov Plus        1353\n",
       "Molotov Extra        993\n",
       "Molotov Giga         876\n",
       "Molotov Extended     580\n",
       "Name: USER_ID, dtype: int64"
      ]
     },
     "execution_count": 15,
     "metadata": {},
     "output_type": "execute_result"
    }
   ],
   "source": [
    "no_tv_merged_df.groupby([ 'PRODUCT_NAME'])['USER_ID'].nunique().sort_values(ascending=False)"
   ]
  },
  {
   "cell_type": "code",
   "execution_count": 16,
   "metadata": {},
   "outputs": [],
   "source": [
    "from datetime import datetime\n",
    "# calculating age of users \n",
    "users_df = users_df.dropna(subset=['BIRTHDAY'])\n",
    "current_year = datetime.now().year\n",
    "users_df['BIRTHDAY'] = pd.to_datetime(users_df['BIRTHDAY'], format='mixed')\n",
    "users_df['AGE'] = current_year - users_df['BIRTHDAY'].dt.year"
   ]
  },
  {
   "cell_type": "code",
   "execution_count": 17,
   "metadata": {},
   "outputs": [],
   "source": [
    "# merging tv/non-tv users with user's age\n",
    "tv_demographics = pd.merge(users_df, tv_users_df, left_on='ID', right_on='USER_ID', how='inner')\n",
    "no_tv_demographics = pd.merge(users_df, no_tv_users_df, left_on='ID', right_on='USER_ID', how='inner')"
   ]
  },
  {
   "cell_type": "code",
   "execution_count": 19,
   "metadata": {},
   "outputs": [],
   "source": [
    "# Prepping age clusters\n",
    "bins = [18, 30, 40, 50, float('inf')]\n",
    "labels = ['18-30', '31-40', '41-50', '51+']\n",
    "\n",
    "# Create age bins\n",
    "tv_demographics['AGE_GROUP'] = pd.cut(tv_demographics['AGE'], bins=bins, labels=labels, right=False)\n",
    "no_tv_demographics['AGE_GROUP'] = pd.cut(no_tv_demographics['AGE'], bins=bins, labels=labels, right=False)\n",
    "\n"
   ]
  },
  {
   "cell_type": "markdown",
   "metadata": {},
   "source": [
    "### TV users age groups "
   ]
  },
  {
   "cell_type": "code",
   "execution_count": 81,
   "metadata": {},
   "outputs": [
    {
     "name": "stderr",
     "output_type": "stream",
     "text": [
      "C:\\Users\\dell\\AppData\\Local\\Temp\\ipykernel_1800\\3772423047.py:1: FutureWarning: The default of observed=False is deprecated and will be changed to True in a future version of pandas. Pass observed=False to retain current behavior or observed=True to adopt the future default and silence this warning.\n",
      "  tv_demographics.groupby('AGE_GROUP').size()\n"
     ]
    },
    {
     "data": {
      "text/plain": [
       "AGE_GROUP\n",
       "18-30    14320\n",
       "31-40    25972\n",
       "41-50    34325\n",
       "51+      60839\n",
       "dtype: int64"
      ]
     },
     "execution_count": 81,
     "metadata": {},
     "output_type": "execute_result"
    }
   ],
   "source": [
    "tv_demographics.groupby('AGE_GROUP').size()"
   ]
  },
  {
   "cell_type": "markdown",
   "metadata": {},
   "source": [
    "### Non tv user by age groups"
   ]
  },
  {
   "cell_type": "code",
   "execution_count": 82,
   "metadata": {},
   "outputs": [
    {
     "name": "stderr",
     "output_type": "stream",
     "text": [
      "C:\\Users\\dell\\AppData\\Local\\Temp\\ipykernel_1800\\133730484.py:1: FutureWarning: The default of observed=False is deprecated and will be changed to True in a future version of pandas. Pass observed=False to retain current behavior or observed=True to adopt the future default and silence this warning.\n",
      "  no_tv_demographics.groupby('AGE_GROUP').size()\n"
     ]
    },
    {
     "data": {
      "text/plain": [
       "AGE_GROUP\n",
       "18-30     7215\n",
       "31-40    10496\n",
       "41-50    19045\n",
       "51+      49005\n",
       "dtype: int64"
      ]
     },
     "execution_count": 82,
     "metadata": {},
     "output_type": "execute_result"
    }
   ],
   "source": [
    "no_tv_demographics.groupby('AGE_GROUP').size()"
   ]
  },
  {
   "cell_type": "code",
   "execution_count": 20,
   "metadata": {},
   "outputs": [],
   "source": [
    "# Merging users history with channels \n",
    "tv_merged_channel_df = tv_users_df.merge(channels_df, left_on='CHANNEL_ID', right_on='CHANNEL_ID')\n",
    "no_tv_merged_channel_df = no_tv_users_df.merge(channels_df, left_on='CHANNEL_ID', right_on='CHANNEL_ID')"
   ]
  },
  {
   "cell_type": "markdown",
   "metadata": {},
   "source": [
    "### Number of tv users grouped by product channel "
   ]
  },
  {
   "cell_type": "code",
   "execution_count": 8,
   "metadata": {},
   "outputs": [
    {
     "data": {
      "text/plain": [
       "NAME\n",
       "France 24 Anglais    2884\n",
       "RTI 1                2191\n",
       "ortm                 2127\n",
       "ina                  2007\n",
       "mango-homicide       1423\n",
       "                     ... \n",
       "Histoire TV             1\n",
       "mango-sonar             1\n",
       "RMC Découverte          1\n",
       "TvBreizh                1\n",
       "wax_drama_ci            1\n",
       "Name: USER_ID, Length: 208, dtype: int64"
      ]
     },
     "execution_count": 8,
     "metadata": {},
     "output_type": "execute_result"
    }
   ],
   "source": [
    "tv_merged_channel_df.groupby([ 'NAME'])['USER_ID'].nunique().sort_values(ascending=False)"
   ]
  },
  {
   "cell_type": "markdown",
   "metadata": {},
   "source": [
    "### Number of non tv users grouped by channel"
   ]
  },
  {
   "cell_type": "code",
   "execution_count": 21,
   "metadata": {},
   "outputs": [
    {
     "data": {
      "text/plain": [
       "NAME\n",
       "France 24 Anglais    2856\n",
       "ina                  1831\n",
       "RTI 1                1736\n",
       "francetv             1121\n",
       "gametoon             1000\n",
       "                     ... \n",
       "luxetv4k                1\n",
       "mango-sonar             1\n",
       "mango-cbs               1\n",
       "mango-mylove            1\n",
       "wax_drama_ci            1\n",
       "Name: USER_ID, Length: 201, dtype: int64"
      ]
     },
     "execution_count": 21,
     "metadata": {},
     "output_type": "execute_result"
    }
   ],
   "source": [
    "no_tv_merged_channel_df.groupby([ 'NAME'])['USER_ID'].nunique().sort_values(ascending=False)"
   ]
  }
 ],
 "metadata": {
  "kernelspec": {
   "display_name": "Python 3",
   "language": "python",
   "name": "python3"
  },
  "language_info": {
   "codemirror_mode": {
    "name": "ipython",
    "version": 3
   },
   "file_extension": ".py",
   "mimetype": "text/x-python",
   "name": "python",
   "nbconvert_exporter": "python",
   "pygments_lexer": "ipython3",
   "version": "3.11.4"
  }
 },
 "nbformat": 4,
 "nbformat_minor": 2
}
